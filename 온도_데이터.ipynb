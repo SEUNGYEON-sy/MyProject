{
 "cells": [
  {
   "cell_type": "markdown",
   "id": "58c2b1a1",
   "metadata": {},
   "source": [
    "# 동네예보 데이터 가지고 오기"
   ]
  },
  {
   "cell_type": "code",
   "execution_count": 1,
   "id": "2a62ac94",
   "metadata": {},
   "outputs": [],
   "source": [
    "import requests\n",
    "import json\n",
    "import datetime\n",
    "\n",
    "vilage_weather_url = \"http://apis.data.go.kr/1360000/VilageFcstInfoService_2.0/getVilageFcst?\"\n",
    "\n",
    "service_key = \"liUO3ay4lxW73Ocza9LMMQuYhfpVi48jOQ12MTDtN7CrQ%2Fn3M5f83jOmXW5bujfCfeaOMIlng75mysEeie%2FZig%3D%3D\"\n",
    "\n",
    "today = datetime.datetime.today()"
   ]
  },
  {
   "cell_type": "code",
   "execution_count": 2,
   "id": "d6257a04",
   "metadata": {},
   "outputs": [
    {
     "data": {
      "text/plain": [
       "datetime.datetime(2022, 6, 18, 20, 59, 8, 412643)"
      ]
     },
     "execution_count": 2,
     "metadata": {},
     "output_type": "execute_result"
    }
   ],
   "source": [
    "today"
   ]
  },
  {
   "cell_type": "code",
   "execution_count": 3,
   "id": "b074b1f8",
   "metadata": {},
   "outputs": [],
   "source": [
    "base_date = today.strftime(\"%Y%m%d\") # \"20200214\" == 기준 날짜\n",
    "base_time = \"0800\" # 날씨 값\n",
    "\n",
    "nx = \"60\"\n",
    "ny = \"128\""
   ]
  },
  {
   "cell_type": "code",
   "execution_count": 4,
   "id": "90f2e395",
   "metadata": {},
   "outputs": [
    {
     "data": {
      "text/plain": [
       "'20220618'"
      ]
     },
     "execution_count": 4,
     "metadata": {},
     "output_type": "execute_result"
    }
   ],
   "source": [
    "base_date"
   ]
  },
  {
   "cell_type": "code",
   "execution_count": 5,
   "id": "460acb1e",
   "metadata": {},
   "outputs": [],
   "source": [
    "payload = \"serviceKey=\" + service_key + \"&\" +\\\n",
    "    \"dataType=json\" + \"&\" +\\\n",
    "    \"base_date=\" + base_date + \"&\" +\\\n",
    "    \"base_time=\" + base_time + \"&\" +\\\n",
    "    \"nx=\" + nx + \"&\" +\\\n",
    "    \"ny=\" + ny\n",
    "\n",
    "# 값 요청\n",
    "res = requests.get(vilage_weather_url + payload)\n"
   ]
  },
  {
   "cell_type": "code",
   "execution_count": 8,
   "id": "d9b55c8d",
   "metadata": {},
   "outputs": [
    {
     "data": {
      "text/plain": [
       "200"
      ]
     },
     "execution_count": 8,
     "metadata": {},
     "output_type": "execute_result"
    }
   ],
   "source": [
    "res.status_code"
   ]
  },
  {
   "cell_type": "code",
   "execution_count": 9,
   "id": "1ec97f4d",
   "metadata": {},
   "outputs": [
    {
     "data": {
      "text/plain": [
       "{'response': {'header': {'resultCode': '00', 'resultMsg': 'NORMAL_SERVICE'},\n",
       "  'body': {'dataType': 'JSON',\n",
       "   'items': {'item': [{'baseDate': '20220618',\n",
       "      'baseTime': '0800',\n",
       "      'category': 'TMP',\n",
       "      'fcstDate': '20220618',\n",
       "      'fcstTime': '0900',\n",
       "      'fcstValue': '21',\n",
       "      'nx': 60,\n",
       "      'ny': 128},\n",
       "     {'baseDate': '20220618',\n",
       "      'baseTime': '0800',\n",
       "      'category': 'UUU',\n",
       "      'fcstDate': '20220618',\n",
       "      'fcstTime': '0900',\n",
       "      'fcstValue': '-0.3',\n",
       "      'nx': 60,\n",
       "      'ny': 128},\n",
       "     {'baseDate': '20220618',\n",
       "      'baseTime': '0800',\n",
       "      'category': 'VVV',\n",
       "      'fcstDate': '20220618',\n",
       "      'fcstTime': '0900',\n",
       "      'fcstValue': '2',\n",
       "      'nx': 60,\n",
       "      'ny': 128},\n",
       "     {'baseDate': '20220618',\n",
       "      'baseTime': '0800',\n",
       "      'category': 'VEC',\n",
       "      'fcstDate': '20220618',\n",
       "      'fcstTime': '0900',\n",
       "      'fcstValue': '169',\n",
       "      'nx': 60,\n",
       "      'ny': 128},\n",
       "     {'baseDate': '20220618',\n",
       "      'baseTime': '0800',\n",
       "      'category': 'WSD',\n",
       "      'fcstDate': '20220618',\n",
       "      'fcstTime': '0900',\n",
       "      'fcstValue': '2',\n",
       "      'nx': 60,\n",
       "      'ny': 128},\n",
       "     {'baseDate': '20220618',\n",
       "      'baseTime': '0800',\n",
       "      'category': 'SKY',\n",
       "      'fcstDate': '20220618',\n",
       "      'fcstTime': '0900',\n",
       "      'fcstValue': '4',\n",
       "      'nx': 60,\n",
       "      'ny': 128},\n",
       "     {'baseDate': '20220618',\n",
       "      'baseTime': '0800',\n",
       "      'category': 'PTY',\n",
       "      'fcstDate': '20220618',\n",
       "      'fcstTime': '0900',\n",
       "      'fcstValue': '0',\n",
       "      'nx': 60,\n",
       "      'ny': 128},\n",
       "     {'baseDate': '20220618',\n",
       "      'baseTime': '0800',\n",
       "      'category': 'POP',\n",
       "      'fcstDate': '20220618',\n",
       "      'fcstTime': '0900',\n",
       "      'fcstValue': '30',\n",
       "      'nx': 60,\n",
       "      'ny': 128},\n",
       "     {'baseDate': '20220618',\n",
       "      'baseTime': '0800',\n",
       "      'category': 'WAV',\n",
       "      'fcstDate': '20220618',\n",
       "      'fcstTime': '0900',\n",
       "      'fcstValue': '0',\n",
       "      'nx': 60,\n",
       "      'ny': 128},\n",
       "     {'baseDate': '20220618',\n",
       "      'baseTime': '0800',\n",
       "      'category': 'PCP',\n",
       "      'fcstDate': '20220618',\n",
       "      'fcstTime': '0900',\n",
       "      'fcstValue': '강수없음',\n",
       "      'nx': 60,\n",
       "      'ny': 128}]},\n",
       "   'pageNo': 1,\n",
       "   'numOfRows': 10,\n",
       "   'totalCount': 773}}}"
      ]
     },
     "execution_count": 9,
     "metadata": {},
     "output_type": "execute_result"
    }
   ],
   "source": [
    "res.json()"
   ]
  },
  {
   "cell_type": "code",
   "execution_count": 19,
   "id": "b4923933",
   "metadata": {},
   "outputs": [],
   "source": [
    "items = res.json().get('response').get('body').get('items')"
   ]
  },
  {
   "cell_type": "code",
   "execution_count": 17,
   "id": "bce469e8",
   "metadata": {},
   "outputs": [
    {
     "data": {
      "text/plain": [
       "[{'baseDate': '20220618',\n",
       "  'baseTime': '0800',\n",
       "  'category': 'TMP',\n",
       "  'fcstDate': '20220618',\n",
       "  'fcstTime': '0900',\n",
       "  'fcstValue': '21',\n",
       "  'nx': 60,\n",
       "  'ny': 128},\n",
       " {'baseDate': '20220618',\n",
       "  'baseTime': '0800',\n",
       "  'category': 'UUU',\n",
       "  'fcstDate': '20220618',\n",
       "  'fcstTime': '0900',\n",
       "  'fcstValue': '-0.3',\n",
       "  'nx': 60,\n",
       "  'ny': 128},\n",
       " {'baseDate': '20220618',\n",
       "  'baseTime': '0800',\n",
       "  'category': 'VVV',\n",
       "  'fcstDate': '20220618',\n",
       "  'fcstTime': '0900',\n",
       "  'fcstValue': '2',\n",
       "  'nx': 60,\n",
       "  'ny': 128},\n",
       " {'baseDate': '20220618',\n",
       "  'baseTime': '0800',\n",
       "  'category': 'VEC',\n",
       "  'fcstDate': '20220618',\n",
       "  'fcstTime': '0900',\n",
       "  'fcstValue': '169',\n",
       "  'nx': 60,\n",
       "  'ny': 128},\n",
       " {'baseDate': '20220618',\n",
       "  'baseTime': '0800',\n",
       "  'category': 'WSD',\n",
       "  'fcstDate': '20220618',\n",
       "  'fcstTime': '0900',\n",
       "  'fcstValue': '2',\n",
       "  'nx': 60,\n",
       "  'ny': 128},\n",
       " {'baseDate': '20220618',\n",
       "  'baseTime': '0800',\n",
       "  'category': 'SKY',\n",
       "  'fcstDate': '20220618',\n",
       "  'fcstTime': '0900',\n",
       "  'fcstValue': '4',\n",
       "  'nx': 60,\n",
       "  'ny': 128},\n",
       " {'baseDate': '20220618',\n",
       "  'baseTime': '0800',\n",
       "  'category': 'PTY',\n",
       "  'fcstDate': '20220618',\n",
       "  'fcstTime': '0900',\n",
       "  'fcstValue': '0',\n",
       "  'nx': 60,\n",
       "  'ny': 128},\n",
       " {'baseDate': '20220618',\n",
       "  'baseTime': '0800',\n",
       "  'category': 'POP',\n",
       "  'fcstDate': '20220618',\n",
       "  'fcstTime': '0900',\n",
       "  'fcstValue': '30',\n",
       "  'nx': 60,\n",
       "  'ny': 128},\n",
       " {'baseDate': '20220618',\n",
       "  'baseTime': '0800',\n",
       "  'category': 'WAV',\n",
       "  'fcstDate': '20220618',\n",
       "  'fcstTime': '0900',\n",
       "  'fcstValue': '0',\n",
       "  'nx': 60,\n",
       "  'ny': 128},\n",
       " {'baseDate': '20220618',\n",
       "  'baseTime': '0800',\n",
       "  'category': 'PCP',\n",
       "  'fcstDate': '20220618',\n",
       "  'fcstTime': '0900',\n",
       "  'fcstValue': '강수없음',\n",
       "  'nx': 60,\n",
       "  'ny': 128}]"
      ]
     },
     "execution_count": 17,
     "metadata": {},
     "output_type": "execute_result"
    }
   ],
   "source": []
  },
  {
   "cell_type": "code",
   "execution_count": 20,
   "id": "611138fc",
   "metadata": {},
   "outputs": [
    {
     "data": {
      "text/plain": [
       "{'tmp': '21', 'code': '0', 'state': '없음'}"
      ]
     },
     "execution_count": 20,
     "metadata": {},
     "output_type": "execute_result"
    }
   ],
   "source": [
    "data = dict() # data >> 카카오 메세지에 보내기 위함\n",
    "data['date'] = base_date\n",
    "\n",
    "weather_data = dict()\n",
    "for item in items['item']:\n",
    "    # 기온\n",
    "    if item['category'] == 'TMP':\n",
    "        weather_data['tmp'] = item['fcstValue']\n",
    "    \n",
    "    # 기상상태\n",
    "    if item['category'] == 'PTY':\n",
    "        \n",
    "        weather_code = item['fcstValue']\n",
    "        \n",
    "        if weather_code == '1':\n",
    "            weather_state = '비'\n",
    "        elif weather_code == '2':\n",
    "            weather_state = '비/눈'\n",
    "        elif weather_code == '3':\n",
    "            weather_state = '눈'\n",
    "        elif weather_code == '4':\n",
    "            weather_state = '소나기'\n",
    "        else:\n",
    "            weather_state = '없음'\n",
    "        \n",
    "        weather_data['code'] = weather_code\n",
    "        weather_data['state'] = weather_state\n",
    "\n",
    "data['weather'] = weather_data\n",
    "data['weather']\n",
    "# {'code': '0', 'state': '없음', 'tmp': '9'} # 9도 / 기상 이상 없음"
   ]
  }
 ],
 "metadata": {
  "kernelspec": {
   "display_name": "Python 3",
   "language": "python",
   "name": "python3"
  },
  "language_info": {
   "codemirror_mode": {
    "name": "ipython",
    "version": 3
   },
   "file_extension": ".py",
   "mimetype": "text/x-python",
   "name": "python",
   "nbconvert_exporter": "python",
   "pygments_lexer": "ipython3",
   "version": "3.8.8"
  }
 },
 "nbformat": 4,
 "nbformat_minor": 5
}
